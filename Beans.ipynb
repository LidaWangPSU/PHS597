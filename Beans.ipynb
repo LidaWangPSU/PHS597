{
  "nbformat": 4,
  "nbformat_minor": 0,
  "metadata": {
    "colab": {
      "name": "Beans.ipynb",
      "provenance": [],
      "authorship_tag": "ABX9TyOauQMH4AiS3wi7X5Ays7Yi",
      "include_colab_link": true
    },
    "kernelspec": {
      "name": "python3",
      "display_name": "Python 3"
    },
    "language_info": {
      "name": "python"
    }
  },
  "cells": [
    {
      "cell_type": "markdown",
      "metadata": {
        "id": "view-in-github",
        "colab_type": "text"
      },
      "source": [
        "<a href=\"https://colab.research.google.com/github/LidaWangPSU/PHS597/blob/master/Beans.ipynb\" target=\"_parent\"><img src=\"https://colab.research.google.com/assets/colab-badge.svg\" alt=\"Open In Colab\"/></a>"
      ]
    },
    {
      "cell_type": "code",
      "metadata": {
        "id": "Vp1SAyY8NB67"
      },
      "source": [
        "import tensorflow as tf\n",
        "import matplotlib.pyplot as plt\n",
        "import matplotlib.image as mpimg\n",
        "import tensorflow.keras as keras\n",
        "import numpy as np\n",
        "import tensorflow_datasets as tfds\n",
        "import seaborn as sns\n",
        "\n",
        "import keras\n",
        "from keras.models import Sequential\n",
        "from keras.layers import Dense, Conv2D , MaxPool2D , Flatten , Dropout \n",
        "from keras.preprocessing.image import ImageDataGenerator\n",
        "from keras.optimizers import Adam\n",
        "from tensorflow.keras import datasets, layers, models\n",
        "\n",
        "from sklearn.metrics import classification_report,confusion_matrix\n",
        "\n",
        "import cv2\n",
        "import os\n"
      ],
      "execution_count": 2,
      "outputs": []
    },
    {
      "cell_type": "code",
      "metadata": {
        "id": "boqB1la4Pv-u"
      },
      "source": [
        "# Import TensorFlow and TensorFlow Datasets\n",
        "test_image, test_label = tfds.as_numpy(tfds.load(\n",
        "    'beans',\n",
        "    split='test',\n",
        "    batch_size=-1,\n",
        "    as_supervised=True\n",
        "))\n",
        "\n",
        "train_image, train_label = tfds.as_numpy(tfds.load(\n",
        "    'beans',\n",
        "    split='train',\n",
        "    batch_size=-1,\n",
        "    as_supervised=True,\n",
        "))\n",
        "\n",
        "\n",
        "validation_image, validation_label = tfds.as_numpy(tfds.load(\n",
        "    'beans',\n",
        "    split='validation',\n",
        "    batch_size=-1,\n",
        "    as_supervised=True,\n",
        "))\n"
      ],
      "execution_count": 3,
      "outputs": []
    },
    {
      "cell_type": "code",
      "metadata": {
        "id": "SdyzU15yQ69m"
      },
      "source": [
        "\n",
        "train_image = train_image.astype('float32') / 255\n",
        "test_image = test_image.astype('float32') / 255\n",
        "\n"
      ],
      "execution_count": 4,
      "outputs": []
    },
    {
      "cell_type": "code",
      "metadata": {
        "id": "uoolHKz7SvXB"
      },
      "source": [
        "from keras.applications.imagenet_utils import preprocess_input, decode_predictions\n",
        "from keras.models import load_model\n",
        "from keras.preprocessing import image"
      ],
      "execution_count": 5,
      "outputs": []
    },
    {
      "cell_type": "code",
      "metadata": {
        "colab": {
          "base_uri": "https://localhost:8080/"
        },
        "id": "rhQcE_PQOYNA",
        "outputId": "45776f2c-2f37-4040-e7cd-3af42ffea8b6"
      },
      "source": [
        "model = Sequential()\n",
        "model.add(Conv2D(filters=15,kernel_size=10,strides=2,padding=\"same\", activation=\"relu\", input_shape=(500,500,3)))\n",
        "model.add(MaxPool2D(pool_size = 4))\n",
        "model.add(Dropout(0.25))\n",
        "\n",
        "model.add(Conv2D(filters=15,kernel_size=10,strides=2,padding=\"same\", activation=\"relu\", input_shape=(500,500,3)))\n",
        "model.add(MaxPool2D(pool_size = 4))\n",
        "model.add(Dropout(0.25))\n",
        "\n",
        "model.add(Flatten())\n",
        "model.add(Dense(128,activation=\"relu\"))\n",
        "model.add(Dense(3, activation=\"softmax\"))\n",
        "\n",
        "model.summary()"
      ],
      "execution_count": 16,
      "outputs": [
        {
          "output_type": "stream",
          "text": [
            "Model: \"sequential_1\"\n",
            "_________________________________________________________________\n",
            "Layer (type)                 Output Shape              Param #   \n",
            "=================================================================\n",
            "conv2d_2 (Conv2D)            (None, 250, 250, 15)      4515      \n",
            "_________________________________________________________________\n",
            "max_pooling2d_2 (MaxPooling2 (None, 62, 62, 15)        0         \n",
            "_________________________________________________________________\n",
            "dropout_2 (Dropout)          (None, 62, 62, 15)        0         \n",
            "_________________________________________________________________\n",
            "conv2d_3 (Conv2D)            (None, 31, 31, 15)        22515     \n",
            "_________________________________________________________________\n",
            "max_pooling2d_3 (MaxPooling2 (None, 7, 7, 15)          0         \n",
            "_________________________________________________________________\n",
            "dropout_3 (Dropout)          (None, 7, 7, 15)          0         \n",
            "_________________________________________________________________\n",
            "flatten_1 (Flatten)          (None, 735)               0         \n",
            "_________________________________________________________________\n",
            "dense_2 (Dense)              (None, 128)               94208     \n",
            "_________________________________________________________________\n",
            "dense_3 (Dense)              (None, 3)                 387       \n",
            "=================================================================\n",
            "Total params: 121,625\n",
            "Trainable params: 121,625\n",
            "Non-trainable params: 0\n",
            "_________________________________________________________________\n"
          ],
          "name": "stdout"
        }
      ]
    },
    {
      "cell_type": "code",
      "metadata": {
        "id": "xAWl1QJVl67V"
      },
      "source": [
        "model.compile(optimizer =  tf.keras.optimizers.Adam(0.001) , loss = 'sparse_categorical_crossentropy'  , metrics = ['accuracy'])"
      ],
      "execution_count": 17,
      "outputs": []
    },
    {
      "cell_type": "code",
      "metadata": {
        "colab": {
          "base_uri": "https://localhost:8080/"
        },
        "id": "pdbyDXdXl7Im",
        "outputId": "833b8a7f-2b74-491e-aec2-ea71ae7745e9"
      },
      "source": [
        "history = model.fit(train_image,train_label,epochs = 15 , validation_data = (validation_image, validation_label))"
      ],
      "execution_count": 20,
      "outputs": [
        {
          "output_type": "stream",
          "text": [
            "Epoch 1/15\n",
            "33/33 [==============================] - 117s 4s/step - loss: 0.2574 - accuracy: 0.9023 - val_loss: 158.8342 - val_accuracy: 0.7218\n",
            "Epoch 2/15\n",
            "33/33 [==============================] - 118s 4s/step - loss: 0.2469 - accuracy: 0.9033 - val_loss: 127.2731 - val_accuracy: 0.7519\n",
            "Epoch 3/15\n",
            "33/33 [==============================] - 118s 4s/step - loss: 0.2413 - accuracy: 0.9062 - val_loss: 123.8130 - val_accuracy: 0.7744\n",
            "Epoch 4/15\n",
            "33/33 [==============================] - 117s 4s/step - loss: 0.2286 - accuracy: 0.9130 - val_loss: 132.9100 - val_accuracy: 0.7218\n",
            "Epoch 5/15\n",
            "33/33 [==============================] - 118s 4s/step - loss: 0.2007 - accuracy: 0.9333 - val_loss: 171.6335 - val_accuracy: 0.7368\n",
            "Epoch 6/15\n",
            "33/33 [==============================] - 117s 4s/step - loss: 0.1515 - accuracy: 0.9497 - val_loss: 154.1981 - val_accuracy: 0.7293\n",
            "Epoch 7/15\n",
            "33/33 [==============================] - 117s 4s/step - loss: 0.2221 - accuracy: 0.9110 - val_loss: 136.9383 - val_accuracy: 0.6917\n",
            "Epoch 8/15\n",
            "33/33 [==============================] - 117s 4s/step - loss: 0.2302 - accuracy: 0.9072 - val_loss: 121.0552 - val_accuracy: 0.7218\n",
            "Epoch 9/15\n",
            "33/33 [==============================] - 118s 4s/step - loss: 0.2375 - accuracy: 0.9014 - val_loss: 164.7799 - val_accuracy: 0.6767\n",
            "Epoch 10/15\n",
            "33/33 [==============================] - 117s 4s/step - loss: 0.1606 - accuracy: 0.9449 - val_loss: 149.0518 - val_accuracy: 0.7143\n",
            "Epoch 11/15\n",
            "33/33 [==============================] - 117s 4s/step - loss: 0.1218 - accuracy: 0.9555 - val_loss: 157.3104 - val_accuracy: 0.7218\n",
            "Epoch 12/15\n",
            "33/33 [==============================] - 118s 4s/step - loss: 0.1009 - accuracy: 0.9652 - val_loss: 175.1819 - val_accuracy: 0.7068\n",
            "Epoch 13/15\n",
            "33/33 [==============================] - 117s 4s/step - loss: 0.0904 - accuracy: 0.9700 - val_loss: 168.0028 - val_accuracy: 0.7594\n",
            "Epoch 14/15\n",
            "33/33 [==============================] - 118s 4s/step - loss: 0.0980 - accuracy: 0.9632 - val_loss: 182.7165 - val_accuracy: 0.7519\n",
            "Epoch 15/15\n",
            "33/33 [==============================] - 119s 4s/step - loss: 0.1299 - accuracy: 0.9449 - val_loss: 161.4510 - val_accuracy: 0.7519\n"
          ],
          "name": "stdout"
        }
      ]
    },
    {
      "cell_type": "code",
      "metadata": {
        "colab": {
          "base_uri": "https://localhost:8080/"
        },
        "id": "p-zk4PceQv6n",
        "outputId": "87a6366c-7298-44a8-c10e-cf9cdf999b40"
      },
      "source": [
        "model.evaluate(test_image,test_label)"
      ],
      "execution_count": 21,
      "outputs": [
        {
          "output_type": "stream",
          "text": [
            "4/4 [==============================] - 4s 1s/step - loss: 0.5273 - accuracy: 0.8359\n"
          ],
          "name": "stdout"
        },
        {
          "output_type": "execute_result",
          "data": {
            "text/plain": [
              "[0.5273289084434509, 0.8359375]"
            ]
          },
          "metadata": {
            "tags": []
          },
          "execution_count": 21
        }
      ]
    }
  ]
}