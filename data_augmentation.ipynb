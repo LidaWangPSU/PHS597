{
  "nbformat": 4,
  "nbformat_minor": 0,
  "metadata": {
    "kernelspec": {
      "display_name": "Python 3",
      "language": "python",
      "name": "python3"
    },
    "language_info": {
      "codemirror_mode": {
        "name": "ipython",
        "version": 3
      },
      "file_extension": ".py",
      "mimetype": "text/x-python",
      "name": "python",
      "nbconvert_exporter": "python",
      "pygments_lexer": "ipython3",
      "version": "3.7.6"
    },
    "colab": {
      "name": "mnist.ipynb",
      "provenance": [],
      "include_colab_link": true
    }
  },
  "cells": [
    {
      "cell_type": "markdown",
      "metadata": {
        "id": "view-in-github",
        "colab_type": "text"
      },
      "source": [
        "<a href=\"https://colab.research.google.com/github/LidaWangPSU/PHS597/blob/master/data_augmentation.ipynb\" target=\"_parent\"><img src=\"https://colab.research.google.com/assets/colab-badge.svg\" alt=\"Open In Colab\"/></a>"
      ]
    },
    {
      "cell_type": "code",
      "metadata": {
        "id": "NAHqq-HaHlvf"
      },
      "source": [
        "import tensorflow as tf\n",
        "import matplotlib.pyplot as plt\n",
        "import matplotlib.image as mpimg\n",
        "import tensorflow.keras as keras\n",
        "import numpy as np\n",
        "import imageio\n",
        "import imgaug as ia\n",
        "import imgaug.augmenters as iaa\n",
        "import pandas as pd\n",
        "import matplotlib.patches as patches\n",
        "import matplotlib\n",
        "%matplotlib inline\n"
      ],
      "execution_count": 4,
      "outputs": []
    },
    {
      "cell_type": "code",
      "metadata": {
        "id": "mEOHi9DQJG1y"
      },
      "source": [
        "##path = 'drive/My Drive/deep-learning-colab/mnist.npz'\n",
        "path = 'mnist.npz'\n",
        "(train_images, train_labels), (test_images, test_labels) = tf.keras.datasets.mnist.load_data(path)\n"
      ],
      "execution_count": 83,
      "outputs": []
    },
    {
      "cell_type": "code",
      "metadata": {
        "id": "JO1y6ct4n8UW"
      },
      "source": [
        "###Rotate 1: -90 to 90 degree\n",
        "train_r_1=[]\n",
        "\n",
        "for i in np.arange(0,60000):\n",
        "  img = train_images[i,:,:]\n",
        "  rotate1 = iaa.Affine(rotate=(-90,90))\n",
        "  r1  = rotate1.augment_image(img)\n",
        "  train_r_1.append(r1)\n",
        "\n",
        "train_r_1 = np.asarray(train_r_1)\n",
        "\n",
        "train_r_1 = np.concatenate((train_images,train_r_1),axis=0)\n"
      ],
      "execution_count": 84,
      "outputs": []
    },
    {
      "cell_type": "code",
      "metadata": {
        "id": "ubrh8TyjHlvl"
      },
      "source": [
        "from keras import models\n",
        "from keras import layers\n",
        "network = models.Sequential()\n",
        "network.add(layers.Dense(512, activation='relu', input_shape=(28 * 28,)))\n",
        "network.add(layers.Dense(10, activation='softmax'))"
      ],
      "execution_count": 85,
      "outputs": []
    },
    {
      "cell_type": "code",
      "metadata": {
        "id": "58RXz0qtHlvl"
      },
      "source": [
        "network.compile(optimizer='rmsprop',\n",
        "loss='categorical_crossentropy',\n",
        "metrics=['accuracy'])"
      ],
      "execution_count": 86,
      "outputs": []
    },
    {
      "cell_type": "code",
      "metadata": {
        "id": "TZrrX_BtHlvl"
      },
      "source": [
        "path = 'mnist.npz'\n",
        "(train_images, train_labels), (test_images, test_labels) = tf.keras.datasets.mnist.load_data(path)\n",
        "train_images = train_images.reshape((60000, 28 * 28))\n",
        "train_images = train_images.astype('float32') / 255\n",
        "test_images = test_images.reshape((10000, 28 * 28))\n",
        "test_images = test_images.astype('float32') / 255\n",
        "train_r_1 = train_r_1.reshape((120000, 28 * 28))\n",
        "train_r_1 = train_r_1.astype('float32') / 255\n",
        "train_r_1_labels = np.concatenate((train_labels,train_labels),axis=0)\n"
      ],
      "execution_count": 87,
      "outputs": []
    },
    {
      "cell_type": "code",
      "metadata": {
        "id": "KICC2W95Hlvm"
      },
      "source": [
        "from keras.utils import to_categorical\n",
        "train_labels = to_categorical(train_labels)\n",
        "test_labels = to_categorical(test_labels)\n",
        "train_r_1_labels = to_categorical(train_r_1_labels)\n"
      ],
      "execution_count": 88,
      "outputs": []
    },
    {
      "cell_type": "code",
      "metadata": {
        "id": "vmTYSgxlx3sM"
      },
      "source": [
        "path = 'mnist.npz'\n",
        "(train_images, train_labels), (test_images, test_labels) = tf.keras.datasets.mnist.load_data(path)\n",
        "\n",
        "###Rotate 2: -50 to 30 degree\n",
        "train_r_2=[]\n",
        "\n",
        "for i in np.arange(0,60000):\n",
        "  img = train_images[i,:,:]\n",
        "  rotate2 = iaa.Affine(rotate=(-50,30))\n",
        "  r2  = rotate2.augment_image(img)\n",
        "  train_r_2.append(r1)\n",
        "\n",
        "train_r_2 = np.asarray(train_r_2)\n",
        "\n",
        "train_r_2 = np.concatenate((train_images,train_r_2),axis=0)"
      ],
      "execution_count": 79,
      "outputs": []
    },
    {
      "cell_type": "code",
      "metadata": {
        "id": "-vJ0JuSmx34g"
      },
      "source": [
        "path = 'mnist.npz'\n",
        "(train_images, train_labels), (test_images, test_labels) = tf.keras.datasets.mnist.load_data(path)\n",
        "train_images = train_images.reshape((60000, 28 * 28))\n",
        "train_images = train_images.astype('float32') / 255\n",
        "test_images = test_images.reshape((10000, 28 * 28))\n",
        "test_images = test_images.astype('float32') / 255\n",
        "train_r_2 = train_r_2.reshape((120000, 28 * 28))\n",
        "train_r_2 = train_r_2.astype('float32') / 255\n",
        "train_r_2_labels = np.concatenate((train_labels,train_labels),axis=0)\n",
        "\n",
        "from keras.utils import to_categorical\n",
        "train_labels = to_categorical(train_labels)\n",
        "test_labels = to_categorical(test_labels)\n",
        "train_r_2_labels = to_categorical(train_r_2_labels)\n"
      ],
      "execution_count": 81,
      "outputs": []
    },
    {
      "cell_type": "code",
      "metadata": {
        "id": "vfsaqY99kux7"
      },
      "source": [
        "path = 'mnist.npz'\n",
        "(train_images, train_labels), (test_images, test_labels) = tf.keras.datasets.mnist.load_data(path)\n",
        "# shearing\n",
        "train_s=[]\n",
        "\n",
        "for i in np.arange(0,60000):\n",
        "  img = train_images[i,:,:]\n",
        "  shearing = iaa.Affine(shear=(0,30))\n",
        "  s1  = shearing.augment_image(img)\n",
        "  train_s.append(s1)\n",
        "\n",
        "train_s = np.asarray(train_s)\n",
        "\n",
        "train_s = np.concatenate((train_images,train_s),axis=0)"
      ],
      "execution_count": 73,
      "outputs": []
    },
    {
      "cell_type": "code",
      "metadata": {
        "id": "Wgj23j7DlbqD"
      },
      "source": [
        "path = 'mnist.npz'\n",
        "(train_images, train_labels), (test_images, test_labels) = tf.keras.datasets.mnist.load_data(path)\n",
        "train_images = train_images.reshape((60000, 28 * 28))\n",
        "train_images = train_images.astype('float32') / 255\n",
        "test_images = test_images.reshape((10000, 28 * 28))\n",
        "test_images = test_images.astype('float32') / 255\n",
        "train_s = train_s.reshape((120000, 28 * 28))\n",
        "train_s = train_s.astype('float32') / 255\n",
        "train_s_labels = np.concatenate((train_labels,train_labels),axis=0)\n",
        "\n",
        "from keras.utils import to_categorical\n",
        "train_labels = to_categorical(train_labels)\n",
        "test_labels = to_categorical(test_labels)\n",
        "train_s_labels = to_categorical(train_s_labels)"
      ],
      "execution_count": 74,
      "outputs": []
    },
    {
      "cell_type": "code",
      "metadata": {
        "colab": {
          "base_uri": "https://localhost:8080/"
        },
        "id": "9To1K2PkHlvm",
        "outputId": "deb2b46a-59f5-4cf3-96ad-8731d0aa2878"
      },
      "source": [
        "#original model\n",
        "network.fit(train_images, train_labels, epochs=5, batch_size=128)\n",
        "test_loss, test_acc = network.evaluate(test_images, test_labels)\n",
        "print(test_acc)"
      ],
      "execution_count": 63,
      "outputs": [
        {
          "output_type": "stream",
          "text": [
            "Epoch 1/5\n",
            "469/469 [==============================] - 5s 9ms/step - loss: 0.4326 - accuracy: 0.8738\n",
            "Epoch 2/5\n",
            "469/469 [==============================] - 4s 9ms/step - loss: 0.1134 - accuracy: 0.9663\n",
            "Epoch 3/5\n",
            "469/469 [==============================] - 4s 9ms/step - loss: 0.0707 - accuracy: 0.9790\n",
            "Epoch 4/5\n",
            "469/469 [==============================] - 4s 9ms/step - loss: 0.0500 - accuracy: 0.9851\n",
            "Epoch 5/5\n",
            "469/469 [==============================] - 4s 9ms/step - loss: 0.0368 - accuracy: 0.9894\n",
            "313/313 [==============================] - 1s 2ms/step - loss: 0.0679 - accuracy: 0.9803\n",
            "0.9803000092506409\n"
          ],
          "name": "stdout"
        }
      ]
    },
    {
      "cell_type": "code",
      "metadata": {
        "id": "CEG9BP9BHlvm",
        "colab": {
          "base_uri": "https://localhost:8080/"
        },
        "outputId": "65d99eaa-0a89-44bf-f2e2-8faa79870c68"
      },
      "source": [
        "#rotate model 1\n",
        "network.fit(train_r_1, train_r_1_labels, epochs=5, batch_size=128)\n",
        "test_loss, test_acc = network.evaluate(test_images, test_labels)\n",
        "print(test_acc)"
      ],
      "execution_count": 89,
      "outputs": [
        {
          "output_type": "stream",
          "text": [
            "Epoch 1/5\n",
            "938/938 [==============================] - 10s 10ms/step - loss: 0.6264 - accuracy: 0.8104\n",
            "Epoch 2/5\n",
            "938/938 [==============================] - 8s 9ms/step - loss: 0.1891 - accuracy: 0.9435\n",
            "Epoch 3/5\n",
            "938/938 [==============================] - 8s 9ms/step - loss: 0.1305 - accuracy: 0.9608\n",
            "Epoch 4/5\n",
            "938/938 [==============================] - 8s 9ms/step - loss: 0.0991 - accuracy: 0.9703\n",
            "Epoch 5/5\n",
            "938/938 [==============================] - 9s 9ms/step - loss: 0.0774 - accuracy: 0.9764\n",
            "313/313 [==============================] - 1s 2ms/step - loss: 0.0771 - accuracy: 0.9755\n",
            "0.9754999876022339\n"
          ],
          "name": "stdout"
        }
      ]
    },
    {
      "cell_type": "code",
      "metadata": {
        "colab": {
          "base_uri": "https://localhost:8080/"
        },
        "id": "1Dg5Scd3x4Aa",
        "outputId": "6057b646-f6d4-4341-a614-686801094f79"
      },
      "source": [
        "#rotate model 2\n",
        "network.fit(train_r_2, train_r_2_labels, epochs=5, batch_size=128)\n",
        "test_loss, test_acc = network.evaluate(test_images, test_labels)\n",
        "print(test_acc)"
      ],
      "execution_count": 82,
      "outputs": [
        {
          "output_type": "stream",
          "text": [
            "Epoch 1/5\n",
            "938/938 [==============================] - 8s 9ms/step - loss: 1.1740 - accuracy: 0.5503\n",
            "Epoch 2/5\n",
            "938/938 [==============================] - 8s 9ms/step - loss: 1.1765 - accuracy: 0.5505\n",
            "Epoch 3/5\n",
            "938/938 [==============================] - 8s 9ms/step - loss: 1.1710 - accuracy: 0.5498\n",
            "Epoch 4/5\n",
            "938/938 [==============================] - 8s 9ms/step - loss: 1.1680 - accuracy: 0.5511\n",
            "Epoch 5/5\n",
            "938/938 [==============================] - 8s 9ms/step - loss: 1.1603 - accuracy: 0.5509\n",
            "313/313 [==============================] - 1s 2ms/step - loss: 0.0818 - accuracy: 0.9848\n",
            "0.9847999811172485\n"
          ],
          "name": "stdout"
        }
      ]
    },
    {
      "cell_type": "code",
      "metadata": {
        "colab": {
          "base_uri": "https://localhost:8080/"
        },
        "id": "o43xb4CTvU2G",
        "outputId": "964bf66f-210d-4fe3-96cf-1e4546b73c80"
      },
      "source": [
        "#shear model \n",
        "network.fit(train_s, train_s_labels, epochs=5, batch_size=128)\n",
        "test_loss, test_acc = network.evaluate(test_images, test_labels)\n",
        "print(test_acc)"
      ],
      "execution_count": 90,
      "outputs": [
        {
          "output_type": "stream",
          "text": [
            "Epoch 1/5\n",
            "938/938 [==============================] - 8s 9ms/step - loss: 0.0580 - accuracy: 0.9828\n",
            "Epoch 2/5\n",
            "938/938 [==============================] - 8s 9ms/step - loss: 0.0362 - accuracy: 0.9891\n",
            "Epoch 3/5\n",
            "938/938 [==============================] - 8s 9ms/step - loss: 0.0266 - accuracy: 0.9919\n",
            "Epoch 4/5\n",
            "938/938 [==============================] - 8s 9ms/step - loss: 0.0208 - accuracy: 0.9937\n",
            "Epoch 5/5\n",
            "938/938 [==============================] - 8s 9ms/step - loss: 0.0162 - accuracy: 0.9952\n",
            "313/313 [==============================] - 1s 2ms/step - loss: 0.0695 - accuracy: 0.9834\n",
            "0.9833999872207642\n"
          ],
          "name": "stdout"
        }
      ]
    },
    {
      "cell_type": "code",
      "metadata": {
        "id": "ljJZt1xLxrLx"
      },
      "source": [
        ""
      ],
      "execution_count": null,
      "outputs": []
    },
    {
      "cell_type": "markdown",
      "metadata": {
        "id": "vXkiQ06TwRXu"
      },
      "source": [
        "There are some difference with shuang's results. When I rotate the image between -90 to 90 degree. The accuracy of training set are similar to the performace of original model. However, the accuracy of testing set decrese by 0.5%. When I rotate the image between -50 to 30 degree as shuang did. The accuracy of training set are much lower, but the accuracy of testing set increase by 0.5%. \n",
        "\n",
        "The shearing model also increase the accuracy by around 0.5%"
      ]
    }
  ]
}